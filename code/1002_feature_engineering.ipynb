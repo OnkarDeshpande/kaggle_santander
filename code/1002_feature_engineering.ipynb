{
 "cells": [
  {
   "cell_type": "code",
   "execution_count": 6,
   "metadata": {},
   "outputs": [],
   "source": [
    "import pandas as pd\n",
    "import numpy as np\n",
    "\n",
    "from scipy.stats import norm, rankdata\n",
    "\n",
    "import matplotlib.pyplot as plt\n",
    "import seaborn as sns\n",
    "%matplotlib inline\n",
    "\n",
    "import warnings\n",
    "warnings.filterwarnings('ignore')\n",
    "np.random.seed(123)\n",
    "\n",
    "import utils"
   ]
  },
  {
   "cell_type": "code",
   "execution_count": 2,
   "metadata": {},
   "outputs": [],
   "source": [
    "train_file = '../data/train.csv'\n",
    "df_train = pd.read_csv(train_file)\n",
    "df_train.drop(['ID_code'],axis=1, inplace=True)\n",
    "\n",
    "target = df_train.pop('target')\n",
    "\n",
    "test_file = '../data/test.csv'\n",
    "df_test = pd.read_csv(test_file)\n",
    "df_test.drop(['ID_code'],axis=1, inplace=True)"
   ]
  },
  {
   "cell_type": "code",
   "execution_count": 8,
   "metadata": {},
   "outputs": [],
   "source": [
    "def count_negative(series):\n",
    "    # \"between\" returns a boolean Series equivalent to left <= series <= right.\n",
    "    # NA values will be treated as False.\n",
    "    return (series <= 0).sum()\n",
    "# Alternative approach:\n",
    "#     series.between(left=range_min, right=range_max).sum()\n",
    "\n",
    "def row_features(df):\n",
    "    df['sum']  = df.sum(axis=1)  \n",
    "    df['min']  = df.min(axis=1)\n",
    "    df['max']  = df.max(axis=1)\n",
    "    df['mean'] = df.mean(axis=1)\n",
    "    df['std']  = df.std(axis=1)\n",
    "    df['skew'] = df.skew(axis=1)\n",
    "    df['kurt'] = df.kurtosis(axis=1)\n",
    "    df['med']  = df.median(axis=1)\n",
    "    \n",
    "    # count of +ve and -ve values in a row and something of this sort, 5 cols\n",
    "    df[\"negative_count\"] = df.apply(func = lambda row: count_negative(row), axis=1)\n",
    "    df[\"positive_count\"] = len(df.columns) - df[\"negative_count\"]\n",
    "    return df\n",
    "\n",
    "\n",
    "def col_features(df):\n",
    "    for col in df.columns:\n",
    "        # Square\n",
    "        df['sq_'+col] = df[col] * df[col]\n",
    "\n",
    "        # Cube\n",
    "#         df[col+'_c'] = df[col] * df[col] * df[col]\n",
    "\n",
    "        # 4th power\n",
    "#         df[col+'_q'] = df[col] * df[col] * df[col] * df[col]\n",
    "\n",
    "        # Cumulative percentile (not normalized)\n",
    "        df['r_'+col] = rankdata(df[col]).astype('float32')\n",
    "\n",
    "        # Cumulative normal percentile\n",
    "        df['n_'+col] = norm.cdf(df[col]).astype('float32')\n",
    "        \n",
    "        df['mean_'+col] = (df[col].mean()-df[col])\n",
    "        \n",
    "        df['z_'+col] = (df[col] - df[col].mean())/df[col].std(ddof=0)\n",
    "        \n",
    "        df['sqrt_'+col] = (df['sq_'+col])**(1/4)\n",
    "        \n",
    "        df['log_'+col] = np.log(df['sq_'+col]+10)/2\n",
    "        \n",
    "    return df"
   ]
  },
  {
   "cell_type": "code",
   "execution_count": 7,
   "metadata": {},
   "outputs": [],
   "source": [
    "df_train = row_features(df_train)\n",
    "df_test  = row_features(df_test)"
   ]
  },
  {
   "cell_type": "code",
   "execution_count": 9,
   "metadata": {},
   "outputs": [
    {
     "name": "stderr",
     "output_type": "stream",
     "text": [
      "3it [00:00,  4.14it/s]\n",
      "3it [00:00,  4.02it/s]\n"
     ]
    }
   ],
   "source": [
    "utils.to_pickles(df_train, '../data/train')\n",
    "utils.to_pickles(df_test, '../data/test')"
   ]
  },
  {
   "cell_type": "code",
   "execution_count": 3,
   "metadata": {},
   "outputs": [
    {
     "name": "stderr",
     "output_type": "stream",
     "text": [
      "100%|██████████| 3/3 [00:04<00:00,  1.51s/it]\n",
      "100%|██████████| 3/3 [00:04<00:00,  1.38s/it]\n"
     ]
    }
   ],
   "source": [
    "df_train = utils.read_pickles('../data/train')\n",
    "df_test  = utils.read_pickles('../data/test')"
   ]
  },
  {
   "cell_type": "code",
   "execution_count": 9,
   "metadata": {},
   "outputs": [],
   "source": [
    "df_train = col_features(df_train)\n",
    "df_test  = col_features(df_test)"
   ]
  },
  {
   "cell_type": "code",
   "execution_count": 10,
   "metadata": {},
   "outputs": [
    {
     "name": "stderr",
     "output_type": "stream",
     "text": [
      "3it [00:26,  8.80s/it]\n",
      "3it [00:23,  8.45s/it]\n"
     ]
    }
   ],
   "source": [
    "utils.to_pickles(df_train, '../data/train')\n",
    "utils.to_pickles(df_test, '../data/test')"
   ]
  },
  {
   "cell_type": "code",
   "execution_count": null,
   "metadata": {},
   "outputs": [],
   "source": []
  }
 ],
 "metadata": {
  "kernelspec": {
   "display_name": "Python 3",
   "language": "python",
   "name": "python3"
  },
  "language_info": {
   "codemirror_mode": {
    "name": "ipython",
    "version": 3
   },
   "file_extension": ".py",
   "mimetype": "text/x-python",
   "name": "python",
   "nbconvert_exporter": "python",
   "pygments_lexer": "ipython3",
   "version": "3.7.1"
  }
 },
 "nbformat": 4,
 "nbformat_minor": 2
}
