{
 "cells": [
  {
   "cell_type": "code",
   "execution_count": 1,
   "metadata": {},
   "outputs": [],
   "source": [
    "import pandas as pd\n",
    "import numpy as np\n",
    "\n",
    "import matplotlib.pyplot as plt\n",
    "import seaborn as sns\n",
    "%matplotlib inline\n",
    "\n",
    "import warnings\n",
    "warnings.filterwarnings('ignore')\n",
    "np.random.seed(123)\n",
    "\n",
    "import utils"
   ]
  },
  {
   "cell_type": "code",
   "execution_count": null,
   "metadata": {},
   "outputs": [],
   "source": [
    "train_file = '../data/input/train.csv'\n",
    "df_data = pd.read_csv(train_file)\n",
    "df_data.drop(['ID_code'],axis=1, inplace=True)\n",
    "\n",
    "target = df_data.pop('target')"
   ]
  },
  {
   "cell_type": "code",
   "execution_count": null,
   "metadata": {},
   "outputs": [],
   "source": [
    "def add_features_save_para(df, data='train', feature_dict = None):\n",
    "    if data=='train':\n",
    "        feature_dict = {}\n",
    "    # Add more features\n",
    "    for col in df.columns:\n",
    "        # Normalize the data, so that it can be used in norm.cdf(), as though it is a standard normal \n",
    "        # variable\n",
    "        if data=='train':\n",
    "            mean = df[col].mean()\n",
    "            std = df[col].std()\n",
    "            df[col] = ((df[col] - mean)/std).astype('float32')\n",
    "            feature_dict[col] = {'mean': mean, 'std': std} \n",
    "        else:\n",
    "            df[col] = ((df[col] - feature_dict[col]['mean'])/feature_dict[col]['std']).astype('float32')\n",
    "            \n",
    "        # Square\n",
    "        df[col+'_s'] = df[col] * df[col]\n",
    "\n",
    "        # Cube\n",
    "        df[col+'_c'] = df[col] * df[col] * df[col]\n",
    "\n",
    "        # 4th power\n",
    "        df[col+'_q'] = df[col] * df[col] * df[col] * df[col]\n",
    "\n",
    "        # Cumulative percentile (not normalized)\n",
    "        df[col+'_r'] = rankdata(df[col]).astype('float32')\n",
    "\n",
    "        # Cumulative normal percentile\n",
    "        df[col+'_n'] = norm.cdf(df[col]).astype('float32')\n",
    "\n",
    "\n",
    "\n",
    "    # Normalize the data. Again.\n",
    "    for col in df.columns:\n",
    "        df[col] = ((df[col] - df[col].mean())/df[col].std()).astype('float32')\n",
    "        \n",
    "    return df, feature_dict"
   ]
  },
  {
   "cell_type": "code",
   "execution_count": null,
   "metadata": {},
   "outputs": [],
   "source": [
    "df_train, features_dict = add_features_save_para(df_data)"
   ]
  },
  {
   "cell_type": "code",
   "execution_count": null,
   "metadata": {},
   "outputs": [],
   "source": [
    "test_file = '../data/input/test.csv'\n",
    "df_test = pd.read_csv(test_file)\n",
    "ID = df_test.pop('ID_code')"
   ]
  },
  {
   "cell_type": "code",
   "execution_count": null,
   "metadata": {},
   "outputs": [],
   "source": [
    "df_test, features_dict = add_features_save_para(df_test, data='test', feature_dict=features_dict)"
   ]
  },
  {
   "cell_type": "code",
   "execution_count": null,
   "metadata": {},
   "outputs": [],
   "source": [
    "df_train['target'] = target"
   ]
  },
  {
   "cell_type": "code",
   "execution_count": null,
   "metadata": {},
   "outputs": [],
   "source": [
    "df_data = pd.concat([df_train, df_test])"
   ]
  },
  {
   "cell_type": "code",
   "execution_count": null,
   "metadata": {},
   "outputs": [],
   "source": [
    "utils.to_pickles(df_data, '../data/input/train_test_normed_featrs_mod_one')"
   ]
  }
 ],
 "metadata": {
  "kernelspec": {
   "display_name": "Python 3",
   "language": "python",
   "name": "python3"
  },
  "language_info": {
   "codemirror_mode": {
    "name": "ipython",
    "version": 3
   },
   "file_extension": ".py",
   "mimetype": "text/x-python",
   "name": "python",
   "nbconvert_exporter": "python",
   "pygments_lexer": "ipython3",
   "version": "3.6.2"
  }
 },
 "nbformat": 4,
 "nbformat_minor": 2
}
