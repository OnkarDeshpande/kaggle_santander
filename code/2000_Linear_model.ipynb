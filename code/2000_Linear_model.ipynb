{
 "cells": [
  {
   "cell_type": "markdown",
   "metadata": {},
   "source": [
    "## Linear Model with Normed, square, cubed, 4th power and ranked data"
   ]
  },
  {
   "cell_type": "code",
   "execution_count": 13,
   "metadata": {},
   "outputs": [],
   "source": [
    "import pandas as pd\n",
    "import numpy as np\n",
    "\n",
    "import matplotlib.pyplot as plt\n",
    "import seaborn as sns\n",
    "%matplotlib inline\n",
    "\n",
    "import warnings\n",
    "warnings.filterwarnings('ignore')\n",
    "np.random.seed(123)\n",
    "\n",
    "from sklearn.linear_model import LinearRegression\n",
    "from sklearn.metrics import roc_auc_score\n",
    "from scipy.stats import norm, rankdata"
   ]
  },
  {
   "cell_type": "code",
   "execution_count": 14,
   "metadata": {},
   "outputs": [],
   "source": [
    "### read from the processed datasets\n",
    "\n",
    "train_file = '../data/input/train.csv'\n",
    "target = df_data.pop('target')"
   ]
  },
  {
   "cell_type": "code",
   "execution_count": null,
   "metadata": {},
   "outputs": [],
   "source": []
  },
  {
   "cell_type": "code",
   "execution_count": 23,
   "metadata": {},
   "outputs": [
    {
     "name": "stdout",
     "output_type": "stream",
     "text": [
      "AUC:  0.8991247890925108\n",
      "R2:  0.2590745043111874\n"
     ]
    }
   ],
   "source": [
    "# Do linear regression\n",
    "len_train = 160000\n",
    "clf = LinearRegression().fit(df_train.iloc[:len_train], target[:len_train])\n",
    "preds = clf.predict(df_train.iloc[len_train:])\n",
    "print('AUC: ', roc_auc_score(target.iloc[len_train:], preds))\n",
    "print('R2: ', clf.score(df_train.iloc[len_train:], target.iloc[len_train:]))"
   ]
  },
  {
   "cell_type": "code",
   "execution_count": null,
   "metadata": {},
   "outputs": [],
   "source": [
    "# Write submission file\n",
    "sub_preds = clf.predict(df_test)\n",
    "out_df = pd.DataFrame({'ID_code': ID, 'target': sub_preds.astype('float32')})\n",
    "out_df.to_csv('../results/submission_linear.csv', index=False)"
   ]
  }
 ],
 "metadata": {
  "kernelspec": {
   "display_name": "Python 3",
   "language": "python",
   "name": "python3"
  },
  "language_info": {
   "codemirror_mode": {
    "name": "ipython",
    "version": 3
   },
   "file_extension": ".py",
   "mimetype": "text/x-python",
   "name": "python",
   "nbconvert_exporter": "python",
   "pygments_lexer": "ipython3",
   "version": "3.6.2"
  }
 },
 "nbformat": 4,
 "nbformat_minor": 2
}
