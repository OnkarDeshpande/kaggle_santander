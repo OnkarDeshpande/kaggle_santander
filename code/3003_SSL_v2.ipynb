{
 "cells": [
  {
   "cell_type": "markdown",
   "metadata": {},
   "source": [
    "Directly load predictions of LGBM (latest) and pseudo label it for <0.2 and >0.8 ; followed by retraining the entire model again"
   ]
  },
  {
   "cell_type": "code",
   "execution_count": 1,
   "metadata": {},
   "outputs": [],
   "source": [
    "import numpy as np # linear algebra\n",
    "import pandas as pd # data processing, CSV file I/O (e.g. pd.read_csv)\n",
    "\n",
    "import time\n",
    "\n",
    "from sklearn.model_selection import StratifiedKFold\n",
    "from sklearn.metrics import roc_auc_score\n",
    "from sklearn.model_selection import train_test_split\n",
    "from sklearn.preprocessing import StandardScaler\n",
    "\n",
    "import lightgbm as lgb\n",
    "\n",
    "import utils\n",
    "\n",
    "import matplotlib.pyplot as plt"
   ]
  },
  {
   "cell_type": "code",
   "execution_count": 41,
   "metadata": {},
   "outputs": [
    {
     "name": "stderr",
     "output_type": "stream",
     "text": [
      "100%|██████████| 3/3 [00:00<00:00,  3.53it/s]\n",
      "100%|██████████| 3/3 [00:00<00:00,  3.46it/s]\n"
     ]
    }
   ],
   "source": [
    "train_file = '../data/train'\n",
    "test_file = '../data/test'\n",
    "pred_ = '../results/submission_lgb.csv'\n",
    "\n",
    "df_train = utils.read_pickles(train_file)\n",
    "df_test = utils.read_pickles(test_file)\n",
    "target = df_train.pop('target')\n",
    "\n",
    "\n",
    "# df_train = pd.read_csv(train_file)\n",
    "# df_test = pd.read_csv(test_file)"
   ]
  },
  {
   "cell_type": "code",
   "execution_count": 42,
   "metadata": {},
   "outputs": [],
   "source": [
    "preds = pd.read_csv(pred_)\n",
    "preds['ssl'] = -1\n",
    "\n",
    "preds['ssl'][preds['target'] < 0.03] = 0\n",
    "preds['ssl'][preds['target'] > 0.5] = 1\n",
    "\n",
    "# preds.drop(preds[preds['ssl']==-1].index, inplace=True)"
   ]
  },
  {
   "cell_type": "code",
   "execution_count": 43,
   "metadata": {},
   "outputs": [
    {
     "data": {
      "text/plain": [
       "-1    104788\n",
       " 0     89224\n",
       " 1      5988\n",
       "Name: ssl, dtype: int64"
      ]
     },
     "execution_count": 43,
     "metadata": {},
     "output_type": "execute_result"
    }
   ],
   "source": [
    "preds['ssl'].value_counts()"
   ]
  },
  {
   "cell_type": "code",
   "execution_count": 44,
   "metadata": {},
   "outputs": [],
   "source": [
    "df_test['target'] = preds['ssl']"
   ]
  },
  {
   "cell_type": "code",
   "execution_count": 45,
   "metadata": {},
   "outputs": [],
   "source": [
    "df_test.drop(df_test[df_test['target']==-1].index, inplace=True)"
   ]
  },
  {
   "cell_type": "code",
   "execution_count": 46,
   "metadata": {},
   "outputs": [],
   "source": [
    "test_target = df_test.pop('target')"
   ]
  },
  {
   "cell_type": "code",
   "execution_count": 47,
   "metadata": {},
   "outputs": [
    {
     "data": {
      "text/plain": [
       "295212"
      ]
     },
     "execution_count": 47,
     "metadata": {},
     "output_type": "execute_result"
    }
   ],
   "source": [
    "target.shape[0]+test_target.shape[0]"
   ]
  },
  {
   "cell_type": "code",
   "execution_count": 48,
   "metadata": {},
   "outputs": [],
   "source": [
    "target = pd.concat([target, test_target])"
   ]
  },
  {
   "cell_type": "code",
   "execution_count": 49,
   "metadata": {},
   "outputs": [],
   "source": [
    "df = pd.concat([df_train, df_test])"
   ]
  },
  {
   "cell_type": "code",
   "execution_count": 50,
   "metadata": {},
   "outputs": [],
   "source": [
    "df.drop(['ID_code'],axis=1, inplace=True)"
   ]
  },
  {
   "cell_type": "code",
   "execution_count": 51,
   "metadata": {},
   "outputs": [
    {
     "data": {
      "text/plain": [
       "(295212, 339)"
      ]
     },
     "execution_count": 51,
     "metadata": {},
     "output_type": "execute_result"
    }
   ],
   "source": [
    "df.columns"
   ]
  },
  {
   "cell_type": "code",
   "execution_count": 52,
   "metadata": {},
   "outputs": [],
   "source": [
    "params = {'num_leaves': 9,\n",
    "         'min_data_in_leaf': 42,\n",
    "         'objective': 'binary',\n",
    "         'max_depth': 16,\n",
    "         'learning_rate': 0.0123,\n",
    "         'boosting': 'gbdt',\n",
    "         'bagging_freq': 5,\n",
    "         'bagging_fraction': 0.8,\n",
    "         'feature_fraction': 0.8201,\n",
    "         'bagging_seed': 11,\n",
    "         'reg_alpha': 1.728910519108444,\n",
    "         'reg_lambda': 4.9847051755586085,\n",
    "         'random_state': 42,\n",
    "         'metric': 'auc',\n",
    "         'verbosity': -1,\n",
    "         'subsample': 0.81,\n",
    "         'min_gain_to_split': 0.01077313523861969,\n",
    "         'min_child_weight': 19.428902804238373,\n",
    "         'num_threads': 4}"
   ]
  },
  {
   "cell_type": "code",
   "execution_count": null,
   "metadata": {},
   "outputs": [],
   "source": [
    "df_test = utils.read_pickles(test_file)\n",
    "test_id = df_test.pop('ID_code')"
   ]
  },
  {
   "cell_type": "code",
   "execution_count": 55,
   "metadata": {},
   "outputs": [
    {
     "name": "stderr",
     "output_type": "stream",
     "text": [
      "100%|██████████| 3/3 [00:00<00:00,  8.78it/s]\n"
     ]
    },
    {
     "name": "stdout",
     "output_type": "stream",
     "text": [
      "Fold 0 started at Sun Mar 24 21:55:02 2019\n",
      "Training until validation scores don't improve for 100 rounds.\n",
      "[1000]\ttraining's auc: 0.931984\tvalid_1's auc: 0.919135\n",
      "[2000]\ttraining's auc: 0.949554\tvalid_1's auc: 0.933682\n",
      "[3000]\ttraining's auc: 0.957425\tvalid_1's auc: 0.939025\n",
      "[4000]\ttraining's auc: 0.961981\tvalid_1's auc: 0.941795\n",
      "[5000]\ttraining's auc: 0.965031\tvalid_1's auc: 0.943222\n",
      "[6000]\ttraining's auc: 0.96768\tvalid_1's auc: 0.943886\n",
      "[7000]\ttraining's auc: 0.970171\tvalid_1's auc: 0.944183\n",
      "Early stopping, best iteration is:\n",
      "[7560]\ttraining's auc: 0.971536\tvalid_1's auc: 0.944272\n",
      "Fold 1 started at Sun Mar 24 22:06:43 2019\n",
      "Training until validation scores don't improve for 100 rounds.\n",
      "[1000]\ttraining's auc: 0.932815\tvalid_1's auc: 0.91869\n",
      "[2000]\ttraining's auc: 0.950212\tvalid_1's auc: 0.933315\n",
      "[3000]\ttraining's auc: 0.957911\tvalid_1's auc: 0.938831\n",
      "[4000]\ttraining's auc: 0.962301\tvalid_1's auc: 0.941365\n",
      "[5000]\ttraining's auc: 0.965365\tvalid_1's auc: 0.942626\n",
      "[6000]\ttraining's auc: 0.967917\tvalid_1's auc: 0.943208\n",
      "Early stopping, best iteration is:\n",
      "[6595]\ttraining's auc: 0.96936\tvalid_1's auc: 0.943308\n",
      "Fold 2 started at Sun Mar 24 22:17:04 2019\n",
      "Training until validation scores don't improve for 100 rounds.\n",
      "[1000]\ttraining's auc: 0.932337\tvalid_1's auc: 0.91715\n",
      "[2000]\ttraining's auc: 0.949885\tvalid_1's auc: 0.932689\n",
      "[3000]\ttraining's auc: 0.957407\tvalid_1's auc: 0.93868\n",
      "[4000]\ttraining's auc: 0.961819\tvalid_1's auc: 0.941568\n",
      "[5000]\ttraining's auc: 0.964917\tvalid_1's auc: 0.943037\n",
      "[6000]\ttraining's auc: 0.967499\tvalid_1's auc: 0.94372\n",
      "[7000]\ttraining's auc: 0.970076\tvalid_1's auc: 0.944015\n",
      "Early stopping, best iteration is:\n",
      "[7243]\ttraining's auc: 0.970689\tvalid_1's auc: 0.944077\n",
      "CV score: 0.94388 \n",
      "CPU times: user 2h 12min 3s, sys: 17.8 s, total: 2h 12min 21s\n",
      "Wall time: 33min 16s\n"
     ]
    }
   ],
   "source": [
    "%%time\n",
    "fold_n=3\n",
    "\n",
    "folds = StratifiedKFold(n_splits=fold_n, shuffle=True, random_state=30)\n",
    "y_pred_lgb = np.zeros(len(df_test))\n",
    "oof = np.zeros(len(df))\n",
    "feature_importance_df = pd.DataFrame()\n",
    "features = list(df.columns)\n",
    "\n",
    "for fold_, (train_index, valid_index) in enumerate(folds.split(df, target)):\n",
    "    print('Fold', fold_, 'started at', time.ctime())\n",
    "    X_train, X_valid = df.iloc[train_index], df.iloc[valid_index]\n",
    "    y_train, y_valid = target.iloc[train_index], target.iloc[valid_index]\n",
    "    \n",
    "    train_data = lgb.Dataset(X_train, label=y_train)\n",
    "    valid_data = lgb.Dataset(X_valid, label=y_valid)\n",
    "        \n",
    "    lgb_model = lgb.train(params, train_data, num_boost_round=10000,\n",
    "                    valid_sets = [train_data, valid_data], verbose_eval = 1000, early_stopping_rounds = 100)\n",
    "    \n",
    "    oof[valid_index] = lgb_model.predict(df.iloc[valid_index], num_iteration = lgb_model.best_iteration)\n",
    "    \n",
    "    y_pred_lgb += lgb_model.predict(df_test, num_iteration = lgb_model.best_iteration)/fold_n\n",
    "    \n",
    "    fold_importance_df = pd.DataFrame()\n",
    "    fold_importance_df[\"feature\"] = features\n",
    "    fold_importance_df[\"importance\"] = lgb_model.feature_importance()\n",
    "    fold_importance_df[\"fold\"] = fold_ + 1\n",
    "    feature_importance_df = pd.concat([feature_importance_df, fold_importance_df], axis=0)\n",
    "    \n",
    "\n",
    "print(\"CV score: {:<8.5f}\".format(roc_auc_score(target, oof)))"
   ]
  },
  {
   "cell_type": "code",
   "execution_count": 56,
   "metadata": {},
   "outputs": [],
   "source": [
    "submission_lgb = pd.DataFrame({\n",
    "        \"ID_code\": test_id,\n",
    "        \"target\": y_pred_lgb\n",
    "    })\n",
    "submission_lgb.to_csv('../results/ssl_lgb.csv', index=False)"
   ]
  },
  {
   "cell_type": "code",
   "execution_count": null,
   "metadata": {},
   "outputs": [],
   "source": []
  },
  {
   "cell_type": "code",
   "execution_count": null,
   "metadata": {},
   "outputs": [],
   "source": []
  },
  {
   "cell_type": "code",
   "execution_count": null,
   "metadata": {},
   "outputs": [],
   "source": []
  },
  {
   "cell_type": "code",
   "execution_count": null,
   "metadata": {},
   "outputs": [],
   "source": []
  },
  {
   "cell_type": "code",
   "execution_count": null,
   "metadata": {},
   "outputs": [],
   "source": []
  }
 ],
 "metadata": {
  "kernelspec": {
   "display_name": "Python 3",
   "language": "python",
   "name": "python3"
  },
  "language_info": {
   "codemirror_mode": {
    "name": "ipython",
    "version": 3
   },
   "file_extension": ".py",
   "mimetype": "text/x-python",
   "name": "python",
   "nbconvert_exporter": "python",
   "pygments_lexer": "ipython3",
   "version": "3.7.1"
  }
 },
 "nbformat": 4,
 "nbformat_minor": 2
}
