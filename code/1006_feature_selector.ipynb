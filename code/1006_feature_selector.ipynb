{
 "cells": [
  {
   "cell_type": "code",
   "execution_count": 4,
   "metadata": {},
   "outputs": [],
   "source": [
    "# https://github.com/WillKoehrsen/feature-selector/blob/master/Feature%20Selector%20Usage.ipynb\n",
    "# https://towardsdatascience.com/a-feature-selection-tool-for-machine-learning-in-python-b64dd23710f0"
   ]
  },
  {
   "cell_type": "code",
   "execution_count": 1,
   "metadata": {},
   "outputs": [],
   "source": [
    "import pandas as pd\n",
    "import numpy as np\n",
    "\n",
    "from feature_selector import FeatureSelector\n",
    "import utils"
   ]
  },
  {
   "cell_type": "code",
   "execution_count": 55,
   "metadata": {},
   "outputs": [
    {
     "name": "stderr",
     "output_type": "stream",
     "text": [
      "100%|██████████| 3/3 [00:02<00:00,  1.07it/s]\n"
     ]
    }
   ],
   "source": [
    "train_file = '../data/train'\n",
    "df_train = utils.read_pickles(train_file)\n",
    "\n",
    "\n",
    "# df_train = pd.read_csv('../data/train.csv')\n",
    "# target = df_train.pop('target')\n",
    "# df_train.drop(['ID_code'], axis=1, inplace=True)"
   ]
  },
  {
   "cell_type": "code",
   "execution_count": 41,
   "metadata": {},
   "outputs": [],
   "source": [
    "df_train = df_train[df_train.columns[1200:]]"
   ]
  },
  {
   "cell_type": "code",
   "execution_count": 42,
   "metadata": {},
   "outputs": [
    {
     "data": {
      "text/html": [
       "<div>\n",
       "<style scoped>\n",
       "    .dataframe tbody tr th:only-of-type {\n",
       "        vertical-align: middle;\n",
       "    }\n",
       "\n",
       "    .dataframe tbody tr th {\n",
       "        vertical-align: top;\n",
       "    }\n",
       "\n",
       "    .dataframe thead th {\n",
       "        text-align: right;\n",
       "    }\n",
       "</style>\n",
       "<table border=\"1\" class=\"dataframe\">\n",
       "  <thead>\n",
       "    <tr style=\"text-align: right;\">\n",
       "      <th></th>\n",
       "      <th>sq_var_141</th>\n",
       "      <th>r_var_141</th>\n",
       "      <th>n_var_141</th>\n",
       "      <th>mean_var_141</th>\n",
       "      <th>z_var_141</th>\n",
       "      <th>sqrt_var_141</th>\n",
       "      <th>log_var_141</th>\n",
       "      <th>sq_var_142</th>\n",
       "      <th>r_var_142</th>\n",
       "      <th>n_var_142</th>\n",
       "      <th>...</th>\n",
       "      <th>z_mean_var_0</th>\n",
       "      <th>sqrt_mean_var_0</th>\n",
       "      <th>log_mean_var_0</th>\n",
       "      <th>sq_z_var_0</th>\n",
       "      <th>r_z_var_0</th>\n",
       "      <th>n_z_var_0</th>\n",
       "      <th>mean_z_var_0</th>\n",
       "      <th>z_z_var_0</th>\n",
       "      <th>sqrt_z_var_0</th>\n",
       "      <th>log_z_var_0</th>\n",
       "    </tr>\n",
       "  </thead>\n",
       "  <tbody>\n",
       "    <tr>\n",
       "      <th>0</th>\n",
       "      <td>31.372321</td>\n",
       "      <td>22124.5</td>\n",
       "      <td>1.064979e-08</td>\n",
       "      <td>8.498696</td>\n",
       "      <td>-1.265512</td>\n",
       "      <td>2.366664</td>\n",
       "      <td>1.861306</td>\n",
       "      <td>363.336970</td>\n",
       "      <td>176579.5</td>\n",
       "      <td>1.000000</td>\n",
       "      <td>...</td>\n",
       "      <td>0.577102</td>\n",
       "      <td>1.324543</td>\n",
       "      <td>1.285465</td>\n",
       "      <td>0.333046</td>\n",
       "      <td>60863.5</td>\n",
       "      <td>0.281935</td>\n",
       "      <td>0.577102</td>\n",
       "      <td>-0.577102</td>\n",
       "      <td>0.759672</td>\n",
       "      <td>1.167674</td>\n",
       "    </tr>\n",
       "    <tr>\n",
       "      <th>1</th>\n",
       "      <td>44.626408</td>\n",
       "      <td>136295.5</td>\n",
       "      <td>1.000000e+00</td>\n",
       "      <td>-3.782704</td>\n",
       "      <td>0.563269</td>\n",
       "      <td>2.584628</td>\n",
       "      <td>2.000259</td>\n",
       "      <td>0.105170</td>\n",
       "      <td>1620.0</td>\n",
       "      <td>0.372855</td>\n",
       "      <td>...</td>\n",
       "      <td>-0.269959</td>\n",
       "      <td>0.905917</td>\n",
       "      <td>1.183883</td>\n",
       "      <td>0.072878</td>\n",
       "      <td>122952.5</td>\n",
       "      <td>0.606404</td>\n",
       "      <td>-0.269959</td>\n",
       "      <td>0.269959</td>\n",
       "      <td>0.519575</td>\n",
       "      <td>1.154923</td>\n",
       "    </tr>\n",
       "    <tr>\n",
       "      <th>2</th>\n",
       "      <td>5.972158</td>\n",
       "      <td>47468.5</td>\n",
       "      <td>7.266740e-03</td>\n",
       "      <td>5.341396</td>\n",
       "      <td>-0.795369</td>\n",
       "      <td>1.563266</td>\n",
       "      <td>1.385424</td>\n",
       "      <td>104.362570</td>\n",
       "      <td>78490.0</td>\n",
       "      <td>1.000000</td>\n",
       "      <td>...</td>\n",
       "      <td>0.681113</td>\n",
       "      <td>1.438963</td>\n",
       "      <td>1.329691</td>\n",
       "      <td>0.463915</td>\n",
       "      <td>53545.5</td>\n",
       "      <td>0.247900</td>\n",
       "      <td>0.681113</td>\n",
       "      <td>-0.681113</td>\n",
       "      <td>0.825296</td>\n",
       "      <td>1.173966</td>\n",
       "    </tr>\n",
       "    <tr>\n",
       "      <th>3</th>\n",
       "      <td>254.842910</td>\n",
       "      <td>197807.0</td>\n",
       "      <td>1.000000e+00</td>\n",
       "      <td>-13.066204</td>\n",
       "      <td>1.945644</td>\n",
       "      <td>3.995472</td>\n",
       "      <td>2.789568</td>\n",
       "      <td>100.284202</td>\n",
       "      <td>75808.0</td>\n",
       "      <td>1.000000</td>\n",
       "      <td>...</td>\n",
       "      <td>-0.125158</td>\n",
       "      <td>0.616835</td>\n",
       "      <td>1.158479</td>\n",
       "      <td>0.015665</td>\n",
       "      <td>112735.0</td>\n",
       "      <td>0.549801</td>\n",
       "      <td>-0.125158</td>\n",
       "      <td>0.125158</td>\n",
       "      <td>0.353777</td>\n",
       "      <td>1.152075</td>\n",
       "    </tr>\n",
       "    <tr>\n",
       "      <th>4</th>\n",
       "      <td>19.329212</td>\n",
       "      <td>30614.0</td>\n",
       "      <td>5.500518e-06</td>\n",
       "      <td>7.294096</td>\n",
       "      <td>-1.086139</td>\n",
       "      <td>2.096783</td>\n",
       "      <td>1.689292</td>\n",
       "      <td>137.262313</td>\n",
       "      <td>98136.5</td>\n",
       "      <td>1.000000</td>\n",
       "      <td>...</td>\n",
       "      <td>0.277303</td>\n",
       "      <td>0.918158</td>\n",
       "      <td>1.185620</td>\n",
       "      <td>0.076897</td>\n",
       "      <td>83041.0</td>\n",
       "      <td>0.390774</td>\n",
       "      <td>0.277303</td>\n",
       "      <td>-0.277303</td>\n",
       "      <td>0.526596</td>\n",
       "      <td>1.155123</td>\n",
       "    </tr>\n",
       "  </tbody>\n",
       "</table>\n",
       "<p>5 rows × 518 columns</p>\n",
       "</div>"
      ],
      "text/plain": [
       "   sq_var_141  r_var_141     n_var_141  mean_var_141  z_var_141  sqrt_var_141  \\\n",
       "0   31.372321    22124.5  1.064979e-08      8.498696  -1.265512      2.366664   \n",
       "1   44.626408   136295.5  1.000000e+00     -3.782704   0.563269      2.584628   \n",
       "2    5.972158    47468.5  7.266740e-03      5.341396  -0.795369      1.563266   \n",
       "3  254.842910   197807.0  1.000000e+00    -13.066204   1.945644      3.995472   \n",
       "4   19.329212    30614.0  5.500518e-06      7.294096  -1.086139      2.096783   \n",
       "\n",
       "   log_var_141  sq_var_142  r_var_142  n_var_142     ...       z_mean_var_0  \\\n",
       "0     1.861306  363.336970   176579.5   1.000000     ...           0.577102   \n",
       "1     2.000259    0.105170     1620.0   0.372855     ...          -0.269959   \n",
       "2     1.385424  104.362570    78490.0   1.000000     ...           0.681113   \n",
       "3     2.789568  100.284202    75808.0   1.000000     ...          -0.125158   \n",
       "4     1.689292  137.262313    98136.5   1.000000     ...           0.277303   \n",
       "\n",
       "   sqrt_mean_var_0  log_mean_var_0  sq_z_var_0  r_z_var_0  n_z_var_0  \\\n",
       "0         1.324543        1.285465    0.333046    60863.5   0.281935   \n",
       "1         0.905917        1.183883    0.072878   122952.5   0.606404   \n",
       "2         1.438963        1.329691    0.463915    53545.5   0.247900   \n",
       "3         0.616835        1.158479    0.015665   112735.0   0.549801   \n",
       "4         0.918158        1.185620    0.076897    83041.0   0.390774   \n",
       "\n",
       "   mean_z_var_0  z_z_var_0  sqrt_z_var_0  log_z_var_0  \n",
       "0      0.577102  -0.577102      0.759672     1.167674  \n",
       "1     -0.269959   0.269959      0.519575     1.154923  \n",
       "2      0.681113  -0.681113      0.825296     1.173966  \n",
       "3     -0.125158   0.125158      0.353777     1.152075  \n",
       "4      0.277303  -0.277303      0.526596     1.155123  \n",
       "\n",
       "[5 rows x 518 columns]"
      ]
     },
     "execution_count": 42,
     "metadata": {},
     "output_type": "execute_result"
    }
   ],
   "source": [
    "df_train.head()"
   ]
  },
  {
   "cell_type": "code",
   "execution_count": 64,
   "metadata": {},
   "outputs": [],
   "source": [
    "fs = FeatureSelector(data = df_train[final_cols[:-1]], labels = target)"
   ]
  },
  {
   "cell_type": "code",
   "execution_count": 65,
   "metadata": {},
   "outputs": [
    {
     "name": "stdout",
     "output_type": "stream",
     "text": [
      "0 features with a single unique value.\n",
      "\n"
     ]
    }
   ],
   "source": [
    "fs.identify_single_unique()"
   ]
  },
  {
   "cell_type": "code",
   "execution_count": 66,
   "metadata": {},
   "outputs": [
    {
     "data": {
      "text/plain": [
       "[]"
      ]
     },
     "execution_count": 66,
     "metadata": {},
     "output_type": "execute_result"
    }
   ],
   "source": [
    "single_unique = fs.ops['single_unique']\n",
    "single_unique"
   ]
  },
  {
   "cell_type": "code",
   "execution_count": 67,
   "metadata": {},
   "outputs": [
    {
     "data": {
      "image/png": "[encoded data removed]",
      "text/plain": [
       "<Figure size 700x500 with 1 Axes>"
      ]
     },
     "metadata": {},
     "output_type": "display_data"
    }
   ],
   "source": [
    "fs.plot_unique()"
   ]
  },
  {
   "cell_type": "code",
   "execution_count": 68,
   "metadata": {},
   "outputs": [
    {
     "data": {
      "text/html": [
       "<div>\n",
       "<style scoped>\n",
       "    .dataframe tbody tr th:only-of-type {\n",
       "        vertical-align: middle;\n",
       "    }\n",
       "\n",
       "    .dataframe tbody tr th {\n",
       "        vertical-align: top;\n",
       "    }\n",
       "\n",
       "    .dataframe thead th {\n",
       "        text-align: right;\n",
       "    }\n",
       "</style>\n",
       "<table border=\"1\" class=\"dataframe\">\n",
       "  <thead>\n",
       "    <tr style=\"text-align: right;\">\n",
       "      <th></th>\n",
       "      <th>nunique</th>\n",
       "    </tr>\n",
       "  </thead>\n",
       "  <tbody>\n",
       "    <tr>\n",
       "      <th>var_77</th>\n",
       "      <td>106809</td>\n",
       "    </tr>\n",
       "    <tr>\n",
       "      <th>sq_var_195</th>\n",
       "      <td>33260</td>\n",
       "    </tr>\n",
       "    <tr>\n",
       "      <th>var_103</th>\n",
       "      <td>9376</td>\n",
       "    </tr>\n",
       "    <tr>\n",
       "      <th>var_162</th>\n",
       "      <td>57396</td>\n",
       "    </tr>\n",
       "    <tr>\n",
       "      <th>var_62</th>\n",
       "      <td>74777</td>\n",
       "    </tr>\n",
       "  </tbody>\n",
       "</table>\n",
       "</div>"
      ],
      "text/plain": [
       "            nunique\n",
       "var_77       106809\n",
       "sq_var_195    33260\n",
       "var_103        9376\n",
       "var_162       57396\n",
       "var_62        74777"
      ]
     },
     "execution_count": 68,
     "metadata": {},
     "output_type": "execute_result"
    }
   ],
   "source": [
    "fs.unique_stats.sample(5)"
   ]
  },
  {
   "cell_type": "code",
   "execution_count": 69,
   "metadata": {},
   "outputs": [
    {
     "name": "stdout",
     "output_type": "stream",
     "text": [
      "153 features with a correlation magnitude greater than 0.75.\n",
      "\n"
     ]
    }
   ],
   "source": [
    "fs.identify_collinear(correlation_threshold=0.75)"
   ]
  },
  {
   "cell_type": "code",
   "execution_count": 70,
   "metadata": {},
   "outputs": [
    {
     "data": {
      "text/plain": [
       "['mean_var_55', 'sq_var_56', 'sq_var_57', 'sq_var_58', 'r_var_58']"
      ]
     },
     "execution_count": 70,
     "metadata": {},
     "output_type": "execute_result"
    }
   ],
   "source": [
    "correlated_features = fs.ops['collinear']\n",
    "correlated_features[:5]"
   ]
  },
  {
   "cell_type": "code",
   "execution_count": 71,
   "metadata": {},
   "outputs": [
    {
     "name": "stdout",
     "output_type": "stream",
     "text": [
      "Training Gradient Boosting Model\n",
      "\n",
      "Training until validation scores don't improve for 100 rounds.\n",
      "Early stopping, best iteration is:\n",
      "[726]\tvalid_0's binary_logloss: 0.213736\tvalid_0's auc: 0.890472\n",
      "Training until validation scores don't improve for 100 rounds.\n",
      "Did not meet early stopping. Best iteration is:\n",
      "[972]\tvalid_0's binary_logloss: 0.212899\tvalid_0's auc: 0.886298\n",
      "Training until validation scores don't improve for 100 rounds.\n",
      "Early stopping, best iteration is:\n",
      "[827]\tvalid_0's binary_logloss: 0.208737\tvalid_0's auc: 0.890828\n",
      "\n",
      "56 features with zero importance after one-hot encoding.\n",
      "\n"
     ]
    }
   ],
   "source": [
    "fs.identify_zero_importance(task = 'classification', eval_metric = 'auc', \n",
    "                            n_iterations = 3, early_stopping = True)"
   ]
  },
  {
   "cell_type": "code",
   "execution_count": 72,
   "metadata": {},
   "outputs": [
    {
     "name": "stdout",
     "output_type": "stream",
     "text": [
      "There are 495 original features\n",
      "There are 0 one-hot features\n"
     ]
    }
   ],
   "source": [
    "one_hot_features = fs.one_hot_features\n",
    "base_features = fs.base_features\n",
    "print('There are %d original features' % len(base_features))\n",
    "print('There are %d one-hot features' % len(one_hot_features))"
   ]
  },
  {
   "cell_type": "code",
   "execution_count": 73,
   "metadata": {},
   "outputs": [
    {
     "name": "stdout",
     "output_type": "stream",
     "text": [
      "['single_unique', 'collinear', 'zero_importance'] methods have been run\n",
      "\n",
      "Removed 155 features.\n"
     ]
    }
   ],
   "source": [
    "train_removed = fs.remove(methods = 'all')"
   ]
  },
  {
   "cell_type": "code",
   "execution_count": 74,
   "metadata": {},
   "outputs": [],
   "source": [
    "# final_cols=[]\n",
    "# final_cols.extend(list(train_removed.columns))\n",
    "\n",
    "final_cols=list(train_removed.columns)"
   ]
  },
  {
   "cell_type": "code",
   "execution_count": 75,
   "metadata": {},
   "outputs": [
    {
     "data": {
      "text/plain": [
       "340"
      ]
     },
     "execution_count": 75,
     "metadata": {},
     "output_type": "execute_result"
    }
   ],
   "source": [
    "len(final_cols)"
   ]
  },
  {
   "cell_type": "code",
   "execution_count": null,
   "metadata": {},
   "outputs": [],
   "source": []
  },
  {
   "cell_type": "code",
   "execution_count": 56,
   "metadata": {},
   "outputs": [],
   "source": [
    "df_train['target'] = target"
   ]
  },
  {
   "cell_type": "code",
   "execution_count": 77,
   "metadata": {},
   "outputs": [
    {
     "data": {
      "text/html": [
       "<div>\n",
       "<style scoped>\n",
       "    .dataframe tbody tr th:only-of-type {\n",
       "        vertical-align: middle;\n",
       "    }\n",
       "\n",
       "    .dataframe tbody tr th {\n",
       "        vertical-align: top;\n",
       "    }\n",
       "\n",
       "    .dataframe thead th {\n",
       "        text-align: right;\n",
       "    }\n",
       "</style>\n",
       "<table border=\"1\" class=\"dataframe\">\n",
       "  <thead>\n",
       "    <tr style=\"text-align: right;\">\n",
       "      <th></th>\n",
       "      <th>var_0</th>\n",
       "      <th>var_1</th>\n",
       "      <th>var_2</th>\n",
       "      <th>var_3</th>\n",
       "      <th>var_4</th>\n",
       "      <th>var_5</th>\n",
       "      <th>var_6</th>\n",
       "      <th>var_7</th>\n",
       "      <th>var_8</th>\n",
       "      <th>var_9</th>\n",
       "      <th>...</th>\n",
       "      <th>n_var_183</th>\n",
       "      <th>n_var_184</th>\n",
       "      <th>n_var_186</th>\n",
       "      <th>n_var_187</th>\n",
       "      <th>n_var_191</th>\n",
       "      <th>sq_var_195</th>\n",
       "      <th>sq_var_196</th>\n",
       "      <th>sq_var_199</th>\n",
       "      <th>sq_mean_var_0</th>\n",
       "      <th>target</th>\n",
       "    </tr>\n",
       "  </thead>\n",
       "  <tbody>\n",
       "    <tr>\n",
       "      <th>0</th>\n",
       "      <td>8.9255</td>\n",
       "      <td>-6.7863</td>\n",
       "      <td>11.9081</td>\n",
       "      <td>5.0930</td>\n",
       "      <td>11.4607</td>\n",
       "      <td>-9.2834</td>\n",
       "      <td>5.1187</td>\n",
       "      <td>18.6266</td>\n",
       "      <td>-4.9200</td>\n",
       "      <td>5.7470</td>\n",
       "      <td>...</td>\n",
       "      <td>1.000000</td>\n",
       "      <td>1.00000</td>\n",
       "      <td>1.0</td>\n",
       "      <td>0.000000e+00</td>\n",
       "      <td>0.999963</td>\n",
       "      <td>5.749445</td>\n",
       "      <td>62.069187</td>\n",
       "      <td>1.191154</td>\n",
       "      <td>3.077969</td>\n",
       "      <td>0</td>\n",
       "    </tr>\n",
       "    <tr>\n",
       "      <th>1</th>\n",
       "      <td>11.5006</td>\n",
       "      <td>-4.1473</td>\n",
       "      <td>13.8588</td>\n",
       "      <td>5.3890</td>\n",
       "      <td>12.3622</td>\n",
       "      <td>7.0433</td>\n",
       "      <td>5.6208</td>\n",
       "      <td>16.5338</td>\n",
       "      <td>3.1468</td>\n",
       "      <td>8.0851</td>\n",
       "      <td>...</td>\n",
       "      <td>1.000000</td>\n",
       "      <td>1.00000</td>\n",
       "      <td>1.0</td>\n",
       "      <td>0.000000e+00</td>\n",
       "      <td>1.000000</td>\n",
       "      <td>4.136749</td>\n",
       "      <td>66.043253</td>\n",
       "      <td>3.809523</td>\n",
       "      <td>0.673525</td>\n",
       "      <td>0</td>\n",
       "    </tr>\n",
       "    <tr>\n",
       "      <th>2</th>\n",
       "      <td>8.6093</td>\n",
       "      <td>-2.7457</td>\n",
       "      <td>12.0805</td>\n",
       "      <td>7.8928</td>\n",
       "      <td>10.5825</td>\n",
       "      <td>-9.0837</td>\n",
       "      <td>6.9427</td>\n",
       "      <td>14.6155</td>\n",
       "      <td>-4.9193</td>\n",
       "      <td>5.9525</td>\n",
       "      <td>...</td>\n",
       "      <td>0.999196</td>\n",
       "      <td>1.00000</td>\n",
       "      <td>1.0</td>\n",
       "      <td>1.852202e-10</td>\n",
       "      <td>1.000000</td>\n",
       "      <td>9.870279</td>\n",
       "      <td>42.527354</td>\n",
       "      <td>0.157212</td>\n",
       "      <td>4.287443</td>\n",
       "      <td>0</td>\n",
       "    </tr>\n",
       "    <tr>\n",
       "      <th>3</th>\n",
       "      <td>11.0604</td>\n",
       "      <td>-2.1518</td>\n",
       "      <td>8.9522</td>\n",
       "      <td>7.1957</td>\n",
       "      <td>12.5846</td>\n",
       "      <td>-1.8361</td>\n",
       "      <td>5.8428</td>\n",
       "      <td>14.9250</td>\n",
       "      <td>-5.8609</td>\n",
       "      <td>8.2450</td>\n",
       "      <td>...</td>\n",
       "      <td>1.000000</td>\n",
       "      <td>0.32136</td>\n",
       "      <td>1.0</td>\n",
       "      <td>5.721185e-38</td>\n",
       "      <td>0.999999</td>\n",
       "      <td>1.614424</td>\n",
       "      <td>8.570256</td>\n",
       "      <td>80.992800</td>\n",
       "      <td>0.144769</td>\n",
       "      <td>0</td>\n",
       "    </tr>\n",
       "    <tr>\n",
       "      <th>4</th>\n",
       "      <td>9.8369</td>\n",
       "      <td>-1.4834</td>\n",
       "      <td>12.8746</td>\n",
       "      <td>6.6375</td>\n",
       "      <td>12.2772</td>\n",
       "      <td>2.4486</td>\n",
       "      <td>5.9405</td>\n",
       "      <td>19.2514</td>\n",
       "      <td>6.2654</td>\n",
       "      <td>7.6784</td>\n",
       "      <td>...</td>\n",
       "      <td>1.000000</td>\n",
       "      <td>1.00000</td>\n",
       "      <td>1.0</td>\n",
       "      <td>1.000000e+00</td>\n",
       "      <td>1.000000</td>\n",
       "      <td>2.286446</td>\n",
       "      <td>15.418973</td>\n",
       "      <td>77.623148</td>\n",
       "      <td>0.710673</td>\n",
       "      <td>0</td>\n",
       "    </tr>\n",
       "  </tbody>\n",
       "</table>\n",
       "<p>5 rows × 341 columns</p>\n",
       "</div>"
      ],
      "text/plain": [
       "     var_0   var_1    var_2   var_3    var_4   var_5   var_6    var_7   var_8  \\\n",
       "0   8.9255 -6.7863  11.9081  5.0930  11.4607 -9.2834  5.1187  18.6266 -4.9200   \n",
       "1  11.5006 -4.1473  13.8588  5.3890  12.3622  7.0433  5.6208  16.5338  3.1468   \n",
       "2   8.6093 -2.7457  12.0805  7.8928  10.5825 -9.0837  6.9427  14.6155 -4.9193   \n",
       "3  11.0604 -2.1518   8.9522  7.1957  12.5846 -1.8361  5.8428  14.9250 -5.8609   \n",
       "4   9.8369 -1.4834  12.8746  6.6375  12.2772  2.4486  5.9405  19.2514  6.2654   \n",
       "\n",
       "    var_9   ...    n_var_183  n_var_184  n_var_186     n_var_187  n_var_191  \\\n",
       "0  5.7470   ...     1.000000    1.00000        1.0  0.000000e+00   0.999963   \n",
       "1  8.0851   ...     1.000000    1.00000        1.0  0.000000e+00   1.000000   \n",
       "2  5.9525   ...     0.999196    1.00000        1.0  1.852202e-10   1.000000   \n",
       "3  8.2450   ...     1.000000    0.32136        1.0  5.721185e-38   0.999999   \n",
       "4  7.6784   ...     1.000000    1.00000        1.0  1.000000e+00   1.000000   \n",
       "\n",
       "   sq_var_195  sq_var_196  sq_var_199  sq_mean_var_0  target  \n",
       "0    5.749445   62.069187    1.191154       3.077969       0  \n",
       "1    4.136749   66.043253    3.809523       0.673525       0  \n",
       "2    9.870279   42.527354    0.157212       4.287443       0  \n",
       "3    1.614424    8.570256   80.992800       0.144769       0  \n",
       "4    2.286446   15.418973   77.623148       0.710673       0  \n",
       "\n",
       "[5 rows x 341 columns]"
      ]
     },
     "execution_count": 77,
     "metadata": {},
     "output_type": "execute_result"
    }
   ],
   "source": [
    "# final_cols.append('target')\n",
    "df_train[final_cols+['target']].head()"
   ]
  },
  {
   "cell_type": "code",
   "execution_count": 63,
   "metadata": {},
   "outputs": [],
   "source": [
    "# final_cols[:-1]"
   ]
  },
  {
   "cell_type": "code",
   "execution_count": 78,
   "metadata": {},
   "outputs": [
    {
     "name": "stderr",
     "output_type": "stream",
     "text": [
      "3it [00:01,  1.70it/s]\n"
     ]
    }
   ],
   "source": [
    "utils.to_pickles(df_train[final_cols+['target']], '../data/train')"
   ]
  },
  {
   "cell_type": "code",
   "execution_count": 38,
   "metadata": {},
   "outputs": [
    {
     "name": "stderr",
     "output_type": "stream",
     "text": [
      "3it [00:01,  1.54it/s]\n"
     ]
    }
   ],
   "source": [
    "df_train = utils.read_pickles('../data/train')\n",
    "df_train['ID_code'] = pd.read_csv('../data/train.csv', usecols=['ID_code'])\n",
    "utils.to_pickles(df_train[test_cols], '../data/train')"
   ]
  },
  {
   "cell_type": "code",
   "execution_count": 32,
   "metadata": {},
   "outputs": [
    {
     "name": "stderr",
     "output_type": "stream",
     "text": [
      "3it [00:03,  1.12it/s]\n"
     ]
    }
   ],
   "source": [
    "df_test = utils.read_pickles('../data/test')\n",
    "df_test['ID_code'] = pd.read_csv('../data/test.csv', usecols=['ID_code'])\n",
    "utils.to_pickles(df_test[test_cols], '../data/test')"
   ]
  },
  {
   "cell_type": "code",
   "execution_count": null,
   "metadata": {},
   "outputs": [],
   "source": []
  }
 ],
 "metadata": {
  "kernelspec": {
   "display_name": "Python 3",
   "language": "python",
   "name": "python3"
  },
  "language_info": {
   "codemirror_mode": {
    "name": "ipython",
    "version": 3
   },
   "file_extension": ".py",
   "mimetype": "text/x-python",
   "name": "python",
   "nbconvert_exporter": "python",
   "pygments_lexer": "ipython3",
   "version": "3.7.1"
  }
 },
 "nbformat": 4,
 "nbformat_minor": 2
}
